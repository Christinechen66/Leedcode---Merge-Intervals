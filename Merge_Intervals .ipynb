{
 "cells": [
  {
   "cell_type": "code",
   "execution_count": null,
   "metadata": {},
   "outputs": [],
   "source": [
    "def merge_sum_intervals(intervals):\n",
    "# Transfer tuple to list of list with mutable\n",
    "    def transfer(intervals):\n",
    "        intervals = [list(interval) for interval in intervals]\n",
    "        return intervals\n",
    "\n",
    "# Merge intervals\n",
    "    def merge(intervals):\n",
    "        result = []\n",
    "        intervals.sort() # sort the list \n",
    "        for interval in intervals:\n",
    "            if result == [] or interval[0] > result[-1][1]:\n",
    "                result. append(interval)\n",
    "            else: \n",
    "                result[-1][1]= max(result[-1][1],interval[1])\n",
    "        return result\n",
    "\n",
    "# Sum of the list of intervals\n",
    "    def sum_intervals(intervals):\n",
    "        numbers = []\n",
    "        for interval in intervals:\n",
    "            for i in range(interval[0],interval[1]):\n",
    "                # end number of the range function is exclusive\n",
    "                numbers.append(i)\n",
    "        return sum(set(numbers))\n",
    "    return sum_intervals(merge(transfer(intervals)))#combine three functions"
   ]
  },
  {
   "cell_type": "code",
   "execution_count": null,
   "metadata": {},
   "outputs": [],
   "source": [
    "intervals = [\n",
    "    (1, 5),\n",
    "    (3, 7),\n",
    "    (10, 12),\n",
    "]\n",
    "merge_sum_intervals(intervals)"
   ]
  }
 ],
 "metadata": {
  "kernelspec": {
   "display_name": "Python 3",
   "language": "python",
   "name": "python3"
  },
  "language_info": {
   "codemirror_mode": {
    "name": "ipython",
    "version": 3
   },
   "file_extension": ".py",
   "mimetype": "text/x-python",
   "name": "python",
   "nbconvert_exporter": "python",
   "pygments_lexer": "ipython3",
   "version": "3.7.6"
  }
 },
 "nbformat": 4,
 "nbformat_minor": 4
}
